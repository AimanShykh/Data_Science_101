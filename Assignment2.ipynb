{
  "nbformat": 4,
  "nbformat_minor": 0,
  "metadata": {
    "colab": {
      "provenance": []
    },
    "kernelspec": {
      "name": "python3",
      "display_name": "Python 3"
    },
    "language_info": {
      "name": "python"
    }
  },
  "cells": [
    {
      "cell_type": "markdown",
      "source": [
        "## Task 01:\n",
        "\n",
        "Print Your Name with your Father name and Date of birth using suitable escape sequence charactor\n",
        "\n"
      ],
      "metadata": {
        "id": "bb0O0xtk1v9t"
      }
    },
    {
      "cell_type": "code",
      "source": [
        "print(\"Name: Aiman Saleem\\nFather Name: M.Saleem\\nDate of Birth: 23-9-2005\")"
      ],
      "metadata": {
        "id": "U7LLGIkO2Ixa",
        "outputId": "ff7c0bc9-8e27-4030-b9b8-df13cd154762",
        "colab": {
          "base_uri": "https://localhost:8080/"
        }
      },
      "execution_count": null,
      "outputs": [
        {
          "output_type": "stream",
          "name": "stdout",
          "text": [
            "Name: Aiman Saleem\n",
            "Father Name: M.Saleem\n",
            "Date of Birth: 23-9-2005\n"
          ]
        }
      ]
    },
    {
      "cell_type": "markdown",
      "source": [
        "# Task 02:\n",
        "\n",
        "Write your small bio using variables and print it using print function"
      ],
      "metadata": {
        "id": "TU-xwiLV2NgB"
      }
    },
    {
      "cell_type": "code",
      "source": [
        "bio=\"I am learning python\"\n",
        "print(\"Biography: \"+bio)"
      ],
      "metadata": {
        "id": "Dw8w3rwl2wDB",
        "outputId": "9b155633-ee4a-4284-998c-c0de55f49031",
        "colab": {
          "base_uri": "https://localhost:8080/"
        }
      },
      "execution_count": null,
      "outputs": [
        {
          "output_type": "stream",
          "name": "stdout",
          "text": [
            "Biography: I am learning python\n"
          ]
        }
      ]
    },
    {
      "cell_type": "markdown",
      "source": [
        "# Task 03:\n",
        "\n",
        "Write a program in which use all the operators we can use in Python"
      ],
      "metadata": {
        "id": "F2lcZuDe2ztv"
      }
    },
    {
      "cell_type": "code",
      "source": [
        "a=1\n",
        "b=2\n",
        "print(a+b)\n",
        "print(a-b)\n",
        "print(a*b)\n",
        "print(a/b)\n",
        "print(a%b)\n",
        "print(a**b)"
      ],
      "metadata": {
        "id": "lEJhzsXh3e7K",
        "outputId": "9758ce06-e173-4f43-fe52-2c8c4fb71bda",
        "colab": {
          "base_uri": "https://localhost:8080/"
        }
      },
      "execution_count": null,
      "outputs": [
        {
          "output_type": "stream",
          "name": "stdout",
          "text": [
            "3\n",
            "-1\n",
            "2\n",
            "0.5\n",
            "1\n"
          ]
        }
      ]
    },
    {
      "cell_type": "markdown",
      "source": [
        "# Task 04:\n",
        "\n",
        "\n",
        "1. Mention Marks of English , Islamiat and Maths out of 100 in 3 different variables\n",
        "\n",
        "2. Mention Variable of Total Marks and assign 300 to it\n",
        "\n",
        "3. Calculate Percentage"
      ],
      "metadata": {
        "id": "i4N14TJU3l7n"
      }
    },
    {
      "cell_type": "code",
      "source": [
        "engMarks=50\n",
        "islMarks=60\n",
        "mathMarks=70\n",
        "total=300\n",
        "per=int(((engMarks+islMarks+mathMarks)/total)*100)\n",
        "print(\"Percentage: \"+str(per)+\"%\")"
      ],
      "metadata": {
        "id": "nxojzvRg5PP4",
        "outputId": "33c6f6a4-4407-440e-bb16-10ac99b4191e",
        "colab": {
          "base_uri": "https://localhost:8080/"
        }
      },
      "execution_count": null,
      "outputs": [
        {
          "output_type": "stream",
          "name": "stdout",
          "text": [
            "Percentage: 60%\n"
          ]
        }
      ]
    }
  ]
}