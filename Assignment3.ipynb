{
  "cells": [
    {
      "cell_type": "markdown",
      "metadata": {
        "id": "SjTRL7q8z1ud"
      },
      "source": [
        "1) A company decided to give bonus of 5% to employee if his/her year of service is more than 5 years.\n",
        "Ask user for their salary and year of service and print the net bonus amount."
      ]
    },
    {
      "cell_type": "code",
      "execution_count": null,
      "metadata": {
        "colab": {
          "base_uri": "https://localhost:8080/"
        },
        "id": "Uz_O4PHkz1uk",
        "outputId": "51d9ec2f-8919-4f21-b54f-5d652b70a74f"
      },
      "outputs": [
        {
          "output_type": "stream",
          "name": "stdout",
          "text": [
            "Enter your salary: 50000\n",
            "Enter your years of service: 6\n",
            "Net bonus amount: 52500.0\n"
          ]
        }
      ],
      "source": [
        "salary=int(input(\"Enter your salary: \"))\n",
        "years=int(input(\"Enter your years of service: \"))\n",
        "bonus=0.05*salary\n",
        "\n",
        "if years>5:\n",
        "  print(\"Net bonus amount: \"+str(salary+bonus))\n",
        "else:\n",
        "  print(\"No bonus amount \")"
      ]
    },
    {
      "cell_type": "markdown",
      "metadata": {
        "id": "f35t1vZzz1un"
      },
      "source": [
        "\n",
        "2) Write a program to check whether a person is eligible for voting or not. (accept age from user) if age is greater than 17 eligible otherwise not eligible"
      ]
    },
    {
      "cell_type": "code",
      "execution_count": null,
      "metadata": {
        "id": "J1Pibaqmz1un",
        "colab": {
          "base_uri": "https://localhost:8080/"
        },
        "outputId": "c3148858-3e49-4b09-d234-330af63e992a"
      },
      "outputs": [
        {
          "output_type": "stream",
          "name": "stdout",
          "text": [
            "Enter your age: 15\n",
            "Not Eligible\n"
          ]
        }
      ],
      "source": [
        "age=int(input(\"Enter your age: \"))\n",
        "\n",
        "if age>17:\n",
        "  print(\"Eligible\")\n",
        "else:\n",
        "  print(\"Not Eligible\")"
      ]
    },
    {
      "cell_type": "markdown",
      "metadata": {
        "id": "LEF2uYddz1uo"
      },
      "source": [
        "\n",
        "3) Write a program to check whether a number entered by user is even or odd."
      ]
    },
    {
      "cell_type": "code",
      "execution_count": null,
      "metadata": {
        "id": "gc-WXp-lz1up",
        "colab": {
          "base_uri": "https://localhost:8080/"
        },
        "outputId": "54bcc313-2118-4be1-a7b8-65ee1f2ddbd1"
      },
      "outputs": [
        {
          "output_type": "stream",
          "name": "stdout",
          "text": [
            "Enter a number: 3\n",
            "3 is Odd\n"
          ]
        }
      ],
      "source": [
        "num=int(input(\"Enter a number: \"))\n",
        "\n",
        "if num%2==0:\n",
        "  print(str(num)+\" is Even\")\n",
        "else:\n",
        "  print(str(num)+\" is Odd\")"
      ]
    },
    {
      "cell_type": "markdown",
      "metadata": {
        "id": "2UeByLOBz1up"
      },
      "source": [
        "4) Write a program to check whether a number is divisible by 7 or not.\n",
        "Show Answer"
      ]
    },
    {
      "cell_type": "code",
      "execution_count": null,
      "metadata": {
        "id": "IiqwWPJyz1uq",
        "colab": {
          "base_uri": "https://localhost:8080/"
        },
        "outputId": "21fe5971-a5f5-443e-c6f6-14008af0b8f3"
      },
      "outputs": [
        {
          "output_type": "stream",
          "name": "stdout",
          "text": [
            "Enter a number: 24\n",
            "Number not divisible\n"
          ]
        }
      ],
      "source": [
        "num=int(input(\"Enter a number: \"))\n",
        "\n",
        "if num%7==0:\n",
        "  print(\"Number is divisible by 7 and Answer is: \"+str(num/7))\n",
        "else:\n",
        "  print(\"Number is not divisible by 7\")"
      ]
    },
    {
      "cell_type": "markdown",
      "metadata": {
        "id": "cRkwYA8Ez1uq"
      },
      "source": [
        "5) Write a program to display\n",
        "\"Hello\" if a number entered by user is a multiple of five , otherwise print \"Bye\"."
      ]
    },
    {
      "cell_type": "code",
      "execution_count": null,
      "metadata": {
        "id": "0ZNtzO4-z1ur",
        "colab": {
          "base_uri": "https://localhost:8080/"
        },
        "outputId": "d370d439-00ef-4f83-f488-3617128420b7"
      },
      "outputs": [
        {
          "output_type": "stream",
          "name": "stdout",
          "text": [
            "Enter a number: 7\n",
            "Bye\n"
          ]
        }
      ],
      "source": [
        "num=int(input(\"Enter a number: \"))\n",
        "\n",
        "if num%5==0:\n",
        "  print(\"Hello\")\n",
        "else:\n",
        "  print(\"Bye\")"
      ]
    },
    {
      "cell_type": "markdown",
      "metadata": {
        "id": "AYXZkV_8z1ur"
      },
      "source": [
        "7) Write a program to display the last digit of a number.\n"
      ]
    },
    {
      "cell_type": "code",
      "execution_count": null,
      "metadata": {
        "id": "70c4t9dBz1ur",
        "colab": {
          "base_uri": "https://localhost:8080/"
        },
        "outputId": "4950deed-59e8-4abf-e549-387550dc1ac9"
      },
      "outputs": [
        {
          "output_type": "stream",
          "name": "stdout",
          "text": [
            "Enter a number: 29\n",
            "The last digit of the number is:9\n"
          ]
        }
      ],
      "source": [
        "num=int(input(\"Enter a number: \"))\n",
        "last_digit=num%10\n",
        "print(\"The last digit of the number is: \"+str(last_digit))"
      ]
    },
    {
      "cell_type": "markdown",
      "metadata": {
        "id": "FFcFjOfEz1ur"
      },
      "source": [
        "9) Take values of length and breadth of a rectangle from user and print if it is square or rectangle."
      ]
    },
    {
      "cell_type": "code",
      "execution_count": null,
      "metadata": {
        "id": "ykPUMt9zz1us",
        "colab": {
          "base_uri": "https://localhost:8080/"
        },
        "outputId": "b4ff9b48-7946-4f03-c3d0-42ed5521d17e"
      },
      "outputs": [
        {
          "output_type": "stream",
          "name": "stdout",
          "text": [
            "Enter a length: 4\n",
            "Enter a breadth: 3\n",
            "Rectangle\n"
          ]
        }
      ],
      "source": [
        "length=int(input(\"Enter a length: \"))\n",
        "breadth=int(input(\"Enter a breadth: \"))\n",
        "\n",
        "if length==breadth:\n",
        "  print(\"It is Square\")\n",
        "else:\n",
        "  print(\"It is Rectangle\")"
      ]
    },
    {
      "cell_type": "markdown",
      "metadata": {
        "id": "PUmGUp3rz1us"
      },
      "source": [
        "10) Take two int values from user and print greatest among them."
      ]
    },
    {
      "cell_type": "code",
      "execution_count": null,
      "metadata": {
        "id": "NCQdq-ltz1us",
        "colab": {
          "base_uri": "https://localhost:8080/"
        },
        "outputId": "7cb11f77-da47-4a68-db99-a5e70f139537"
      },
      "outputs": [
        {
          "output_type": "stream",
          "name": "stdout",
          "text": [
            "Enter value 1: 4\n",
            "Enter value 2: 6\n",
            "6 is greater \n"
          ]
        }
      ],
      "source": [
        "num1=int(input(\"Enter value 1: \"))\n",
        "num2=int(input(\"Enter value 2: \"))\n",
        "\n",
        "if num1>num2:\n",
        "  print(str(num1)+\" is greater \")\n",
        "else:\n",
        "  print(str(num2)+\" is greater \")"
      ]
    },
    {
      "cell_type": "markdown",
      "metadata": {
        "id": "Mxzbxx7Xz1us"
      },
      "source": [
        "11) A shop will give discount of 10% if the cost of purchased quantity is more than 1000.\n",
        "Ask user for quantity\n",
        "Suppose, one unit will cost 100.\n",
        "Judge and print total cost for user."
      ]
    },
    {
      "cell_type": "code",
      "execution_count": null,
      "metadata": {
        "id": "Jrq_4Me0z1us",
        "colab": {
          "base_uri": "https://localhost:8080/"
        },
        "outputId": "9ca4d63d-f186-4c0d-c884-a28a44d103fa"
      },
      "outputs": [
        {
          "output_type": "stream",
          "name": "stdout",
          "text": [
            "Enter the quantity purchased: 6\n",
            "Total cost 600\n"
          ]
        }
      ],
      "source": [
        "quantity=int(input(\"Enter the quantity purchased: \"))\n",
        "unit_cost=100\n",
        "total_cost=quantity*unit_cost\n",
        "\n",
        "if total_cost>1000:\n",
        "  discount=0.1*total_cost\n",
        "  total_cost -= discount\n",
        "  print(\"Total cost with discount: \"+str(total_cost))\n",
        "\n",
        "else:\n",
        "  print(\"Total cost: \"+str(total_cost))"
      ]
    },
    {
      "cell_type": "markdown",
      "metadata": {
        "id": "HEnCYKkhz1ut"
      },
      "source": [
        "12) A school has following rules for grading system:\n",
        "\n",
        "a. Below 25 - F\n",
        "\n",
        "b. 25 to 45 - E\n",
        "\n",
        "c. 45 to 50 - D\n",
        "\n",
        "d. 50 to 60 - C\n",
        "\n",
        "e. 60 to 80 - B\n",
        "\n",
        "f. Above 80 - A\n",
        "\n",
        "Ask user to enter marks and print the corresponding grade."
      ]
    },
    {
      "cell_type": "code",
      "execution_count": null,
      "metadata": {
        "id": "ZJB_a8Wfz1ut",
        "colab": {
          "base_uri": "https://localhost:8080/"
        },
        "outputId": "94e7f0ab-0bb5-46db-fc55-fe785dbe14ca"
      },
      "outputs": [
        {
          "output_type": "stream",
          "name": "stdout",
          "text": [
            "Enter marks: 55\n",
            "C\n"
          ]
        }
      ],
      "source": [
        "marks=int(input(\"Enter marks: \"))\n",
        "\n",
        "if marks>80:\n",
        "  print(\"A\")\n",
        "elif marks>60 and marks<=80:\n",
        "  print(\"B\")\n",
        "elif marks>50 and marks<=60:\n",
        "  print(\"C\")\n",
        "elif marks>45 and marks<=50:\n",
        "  print(\"D\")\n",
        "elif marks>25 and marks<=45:\n",
        "  print(\"E\")\n",
        "else:\n",
        "  print(\"F\")"
      ]
    },
    {
      "cell_type": "markdown",
      "metadata": {
        "id": "OSM6n--Yz1ut"
      },
      "source": [
        "14)A student will not be allowed to sit in exam if his/her attendence is less than 75%.\n",
        "\n",
        "Take following input from user\n",
        "\n",
        "Number of classes held\n",
        "\n",
        "Number of classes attended.\n",
        "\n",
        "And print\n",
        "\n",
        "percentage of class attended\n",
        "\n",
        "Is student is allowed to sit in exam or not.\n"
      ]
    },
    {
      "cell_type": "code",
      "execution_count": null,
      "metadata": {
        "id": "-C10zklwz1ut",
        "colab": {
          "base_uri": "https://localhost:8080/"
        },
        "outputId": "131d4d89-c0f3-41e4-ed0b-3655922d54bb"
      },
      "outputs": [
        {
          "output_type": "stream",
          "name": "stdout",
          "text": [
            "Enter the number of classes held: 46\n",
            "Enter the number of classes attended: 42\n",
            "Percentage of classes attended: 91%\n",
            "The student is allowed to sit in the exam.\n"
          ]
        }
      ],
      "source": [
        "classes_held = int(input(\"Enter the number of classes held: \"))\n",
        "classes_attended = int(input(\"Enter the number of classes attended: \"))\n",
        "per = int((classes_attended / classes_held) * 100)\n",
        "\n",
        "print(\"Percentage of classes attended: \"+str(per)+\"%\")\n",
        "if per >= 75:\n",
        "  print(\"The student is allowed to sit in the exam.\")\n",
        "else:\n",
        "  print(\"The student is not allowed to sit in the exam.\")\n"
      ]
    },
    {
      "cell_type": "markdown",
      "metadata": {
        "id": "ZE7BE9ikz1ut"
      },
      "source": [
        "15) Modify the above question to allow student to sit if he/she has medical cause. Ask user if he/she has medical cause or not ( 'Y' or 'N' ) and print accordingly."
      ]
    },
    {
      "cell_type": "code",
      "execution_count": null,
      "metadata": {
        "id": "pp48fbboz1uu",
        "colab": {
          "base_uri": "https://localhost:8080/"
        },
        "outputId": "bc31cabf-8086-4a95-ba8d-0b8206d7d1c1"
      },
      "outputs": [
        {
          "output_type": "stream",
          "name": "stdout",
          "text": [
            "Enter the number of classes held: 46\n",
            "Enter the number of classes attended: 30\n",
            "Percentage of classes attended: 65%\n",
            "The student is not allowed to sit in the exam except she/he has medical cause.\n",
            "Do you have medical cause or not ( 'Y' or 'N' )Y\n",
            "The student is allowed to sit in the exam.\n"
          ]
        }
      ],
      "source": [
        "classes_held = int(input(\"Enter the number of classes held: \"))\n",
        "classes_attended = int(input(\"Enter the number of classes attended: \"))\n",
        "per = int((classes_attended / classes_held) * 100)\n",
        "print(\"Percentage of classes attended: \"+str(per)+\"%\")\n",
        "if per >= 75:\n",
        "  print(\"The student is allowed to sit in the exam.\")\n",
        "else:\n",
        "  print(\"The student is not allowed to sit in the exam except she/he has medical cause.\")\n",
        "  cause=input(\"Do you have medical cause or not ( 'Y' or 'N' ) \")\n",
        "  if cause=='Y':\n",
        "    print(\"The student is allowed to sit in the exam.\")\n",
        "  else:\n",
        "    print(\"The student is not allowed to sit in the exam.\")"
      ]
    },
    {
      "cell_type": "markdown",
      "metadata": {
        "id": "dfXzKGTyz1uu"
      },
      "source": [
        "16) Write a program to check if a year is leap year or not.\n",
        "\n",
        "If a year is divisible by 4 then it is leap year but if the year is century year like 2000, 1900, 2100 then it must be divisible by 400."
      ]
    },
    {
      "cell_type": "code",
      "execution_count": null,
      "metadata": {
        "id": "JEWh9li3z1uu",
        "colab": {
          "base_uri": "https://localhost:8080/"
        },
        "outputId": "21aedae8-de0b-4ec3-bb1f-81d0caf9300b"
      },
      "outputs": [
        {
          "output_type": "stream",
          "name": "stdout",
          "text": [
            "Enter a year: 1996\n",
            "Leap Year\n"
          ]
        }
      ],
      "source": [
        "year=int(input(\"Enter a year: \"))\n",
        "if (year % 4 == 0 ) or (year % 400 == 0):\n",
        "  print(\"Leap Year\")\n",
        "else:\n",
        "  print(\"Not a Leap Year\")"
      ]
    },
    {
      "cell_type": "markdown",
      "metadata": {
        "id": "XrbSlcfvz1uu"
      },
      "source": [
        "17) Ask user to enter age, gender ( M or F ), marital status ( Y or N ) and then using following rules print their place of service.\n",
        "\n",
        "if employee is female, then she will work only in urban areas.\n",
        "\n",
        "if employee is a male and age is in between 20 to 40 then he may work in anywhere\n",
        "\n",
        "if employee is male and age is in between 40 t0 60 then he will work in urban areas only.\n",
        "\n",
        "And any other input of age should print \"ERROR\""
      ]
    },
    {
      "cell_type": "code",
      "execution_count": null,
      "metadata": {
        "id": "-SYkJD4Zz1uu",
        "colab": {
          "base_uri": "https://localhost:8080/"
        },
        "outputId": "6fff67f6-7788-414b-8002-f08449c70998"
      },
      "outputs": [
        {
          "output_type": "stream",
          "name": "stdout",
          "text": [
            "Enter age : 46\n",
            "Enter gender: M\n",
            "Enter martial status: Y\n",
            "You can work only in urban areas\n"
          ]
        }
      ],
      "source": [
        "age=int(input(\"Enter age : \"))\n",
        "gender=input(\"Enter gender: \")\n",
        "status=input(\"Enter martial status ('Y'/'N'): \")\n",
        "if gender=='F':\n",
        "  print(\"You can work in urban areas\")\n",
        "elif gender==\"M\" and  20 <= age <= 40:\n",
        "  print(\"You can work anywhere\")\n",
        "elif gender==\"M\" and  40 <= age <=60:\n",
        "  print(\"You can work in urban areas\")\n",
        "else:\n",
        "  print(\"ERROR\")\n"
      ]
    },
    {
      "cell_type": "markdown",
      "source": [
        "6) Write a program to calculate the electricity bill (accept number of unit from user) according to the following criteria : Unit Price\n",
        "uptp 100 units no charge Next 200 units Rs 5 per unit After 200 units Rs 10 per unit (For example if input unit is 350 than total bill amount is Rs.3500 (For example if input unit is 97 than total bill amount is Rs.0 (For example if input unit is 150 than total bill amount is Rs.750"
      ],
      "metadata": {
        "id": "NW_5_4yjT4Nq"
      }
    },
    {
      "cell_type": "code",
      "execution_count": 4,
      "metadata": {
        "id": "b8-Rdbenz1uu",
        "colab": {
          "base_uri": "https://localhost:8080/"
        },
        "outputId": "b14e00fd-4b28-447a-8362-e0f405b27d3b"
      },
      "outputs": [
        {
          "output_type": "stream",
          "name": "stdout",
          "text": [
            "Enter the number of units consumed: 150\n",
            "750\n"
          ]
        }
      ],
      "source": [
        "units=int(input(\"Enter the number of units consumed: \"))\n",
        "if units<=100:\n",
        "  bill_amount = 0\n",
        "elif units>100 and units<=300:\n",
        "  bill_amount = units  * 5\n",
        "else:\n",
        "  bill_amount = units  * 10\n",
        "print(bill_amount)\n"
      ]
    },
    {
      "cell_type": "markdown",
      "metadata": {
        "id": "16t9M4xjz1uv"
      },
      "source": [
        "13) Take input of age of 3 people by user and determine oldest and youngest among them."
      ]
    },
    {
      "cell_type": "code",
      "execution_count": null,
      "metadata": {
        "id": "GEtNFp_bz1uv",
        "colab": {
          "base_uri": "https://localhost:8080/"
        },
        "outputId": "599d4c1b-f17f-44ea-a855-34d7b5b80646"
      },
      "outputs": [
        {
          "output_type": "stream",
          "name": "stdout",
          "text": [
            "Enter Person1 age : 2\n",
            "Enter Person2 age : 4\n",
            "Enter Person3 age : 3\n",
            "Person2 is older\n",
            "Person1 is younger\n"
          ]
        }
      ],
      "source": [
        "age1=int(input(\"Enter Person1 age : \"))\n",
        "age2=int(input(\"Enter Person2 age : \"))\n",
        "age3=int(input(\"Enter Person3 age : \"))\n",
        "\n",
        "if age1>age2 and age1>age3:\n",
        "  print(\"Person1 is older\")\n",
        "elif age2>age1 and age2>age3:\n",
        "  print(\"Person2 is older\")\n",
        "else:\n",
        "  print(\"Person3 is older\")\n",
        "if age1<age2 and age1<age3:\n",
        "  print(\"Person1 is younger\")\n",
        "elif age2<age1 and age2<age3:\n",
        "  print(\"Person2 is younger\")\n",
        "else:\n",
        "  print(\"Person3 is younger\")"
      ]
    }
  ],
  "metadata": {
    "kernelspec": {
      "display_name": "Python 3 (ipykernel)",
      "language": "python",
      "name": "python3"
    },
    "language_info": {
      "codemirror_mode": {
        "name": "ipython",
        "version": 3
      },
      "file_extension": ".py",
      "mimetype": "text/x-python",
      "name": "python",
      "nbconvert_exporter": "python",
      "pygments_lexer": "ipython3",
      "version": "3.11.5"
    },
    "colab": {
      "provenance": []
    }
  },
  "nbformat": 4,
  "nbformat_minor": 0
}