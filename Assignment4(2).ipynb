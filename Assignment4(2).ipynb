{
  "nbformat": 4,
  "nbformat_minor": 0,
  "metadata": {
    "colab": {
      "provenance": []
    },
    "kernelspec": {
      "name": "python3",
      "display_name": "Python 3"
    },
    "language_info": {
      "name": "python"
    }
  },
  "cells": [
    {
      "cell_type": "markdown",
      "source": [
        "1. Write a Python program to print the numbers from 1 to 10 using a for loop."
      ],
      "metadata": {
        "id": "Mt6OV1Tzi6L9"
      }
    },
    {
      "cell_type": "code",
      "source": [
        "for i in range(1,11):\n",
        "  print(i)"
      ],
      "metadata": {
        "colab": {
          "base_uri": "https://localhost:8080/"
        },
        "id": "lYIc5krAjBDl",
        "outputId": "3b6d3ddd-99a3-4eb3-fba8-c42c3ca0fe16"
      },
      "execution_count": null,
      "outputs": [
        {
          "output_type": "stream",
          "name": "stdout",
          "text": [
            "1\n",
            "2\n",
            "3\n",
            "4\n",
            "5\n",
            "6\n",
            "7\n",
            "8\n",
            "9\n",
            "10\n"
          ]
        }
      ]
    },
    {
      "cell_type": "markdown",
      "source": [
        "2. Write a Python program to print the numbers from 20 to 1 using a while loop.\n"
      ],
      "metadata": {
        "id": "4-Qh-HUfi6PU"
      }
    },
    {
      "cell_type": "code",
      "source": [
        "i=20\n",
        "while (i>=1):\n",
        "  print(i)\n",
        "  i=i-1"
      ],
      "metadata": {
        "colab": {
          "base_uri": "https://localhost:8080/"
        },
        "id": "nFzftj4wjEOs",
        "outputId": "29730f9d-5ebf-46a6-a445-e1fb56f3ae78"
      },
      "execution_count": null,
      "outputs": [
        {
          "output_type": "stream",
          "name": "stdout",
          "text": [
            "20\n",
            "19\n",
            "18\n",
            "17\n",
            "16\n",
            "15\n",
            "14\n",
            "13\n",
            "12\n",
            "11\n",
            "10\n",
            "9\n",
            "8\n",
            "7\n",
            "6\n",
            "5\n",
            "4\n",
            "3\n",
            "2\n",
            "1\n"
          ]
        }
      ]
    },
    {
      "cell_type": "markdown",
      "source": [
        "3. Write a program to print even numbers from 1 to 10."
      ],
      "metadata": {
        "id": "OHa0VcnXi6SW"
      }
    },
    {
      "cell_type": "code",
      "source": [
        "for i in range(1,11):\n",
        "  if (i%2==0):\n",
        "    print(i)"
      ],
      "metadata": {
        "id": "1S_5vY3_jHGJ",
        "colab": {
          "base_uri": "https://localhost:8080/"
        },
        "outputId": "955e8653-1144-4a9f-a5e3-b6cc09aab8d8"
      },
      "execution_count": null,
      "outputs": [
        {
          "output_type": "stream",
          "name": "stdout",
          "text": [
            "0\n",
            "2\n",
            "4\n",
            "6\n",
            "8\n",
            "10\n"
          ]
        }
      ]
    },
    {
      "cell_type": "markdown",
      "source": [
        "4. Write a program that prompts the user to enter a number n and prints all the numbers from 1 to n."
      ],
      "metadata": {
        "id": "8Jdx5GTMi6VS"
      }
    },
    {
      "cell_type": "code",
      "source": [
        "n=int(input(\"Enter a number n: \"))\n",
        "for i in range(1,n):\n",
        "  print(i)\n",
        "  i=i+1"
      ],
      "metadata": {
        "id": "j--SgQn5jKQl",
        "colab": {
          "base_uri": "https://localhost:8080/"
        },
        "outputId": "bb7a428d-7462-4d58-fc4e-d04707d209c0"
      },
      "execution_count": null,
      "outputs": [
        {
          "output_type": "stream",
          "name": "stdout",
          "text": [
            "Enter a number n 8\n",
            "1\n",
            "2\n",
            "3\n",
            "4\n",
            "5\n",
            "6\n",
            "7\n"
          ]
        }
      ]
    },
    {
      "cell_type": "markdown",
      "source": [
        "5. Write a program that prompts the user to enter a number n, and then prints all the odd numbers between 1 and n."
      ],
      "metadata": {
        "id": "yWP5HI2Ri6X5"
      }
    },
    {
      "cell_type": "code",
      "source": [
        "i=1\n",
        "n=int(input(\"Enter a number n: \"))\n",
        "for i in range(1,n):\n",
        "  if (i%2!=0):\n",
        "    print(i)"
      ],
      "metadata": {
        "id": "_4nQ6FkwjPiq",
        "colab": {
          "base_uri": "https://localhost:8080/"
        },
        "outputId": "94b1a25a-02ca-4d20-83f5-edfa43dc97e2"
      },
      "execution_count": null,
      "outputs": [
        {
          "output_type": "stream",
          "name": "stdout",
          "text": [
            "Enter a number n 8\n",
            "1\n",
            "3\n",
            "5\n",
            "7\n"
          ]
        }
      ]
    },
    {
      "cell_type": "markdown",
      "source": [
        "6. Write a program that prints 'Happy Birthday!' five times on screen."
      ],
      "metadata": {
        "id": "bqttGznOi6as"
      }
    },
    {
      "cell_type": "code",
      "source": [
        "for i in range(1,6):\n",
        "  print(\"Happy Birthday!\")"
      ],
      "metadata": {
        "id": "2FnRJeFvjRdA",
        "colab": {
          "base_uri": "https://localhost:8080/"
        },
        "outputId": "c1d6940f-0eb8-4f07-9cca-4aaf68d3ceb9"
      },
      "execution_count": null,
      "outputs": [
        {
          "output_type": "stream",
          "name": "stdout",
          "text": [
            "Happy Birthday!\n",
            "Happy Birthday!\n",
            "Happy Birthday!\n",
            "Happy Birthday!\n",
            "Happy Birthday!\n",
            "Happy Birthday!\n"
          ]
        }
      ]
    },
    {
      "cell_type": "markdown",
      "source": [
        "7. Write a program that takes a number n as input from the user and generates the first n terms of the series formed by squaring the\n",
        "natural numbers. Sample output Enter a number: 6 The first 6 terms of the series are: 149 16 25 36\n"
      ],
      "metadata": {
        "id": "gA0t76Nmi6dR"
      }
    },
    {
      "cell_type": "code",
      "source": [
        "n=int(input(\"Enter a number n: \"))\n",
        "for i in range(1,n):\n",
        " print(i*i)"
      ],
      "metadata": {
        "id": "mSCHauuZjWE3",
        "colab": {
          "base_uri": "https://localhost:8080/"
        },
        "outputId": "845d2d3b-d279-413b-a211-fa764caf193d"
      },
      "execution_count": null,
      "outputs": [
        {
          "output_type": "stream",
          "name": "stdout",
          "text": [
            "Enter a number n 6\n",
            "0\n",
            "1\n",
            "4\n",
            "9\n",
            "16\n",
            "25\n"
          ]
        }
      ]
    },
    {
      "cell_type": "markdown",
      "source": [
        "7. Write a program that prompts the user to input a number and prints its multiplication table."
      ],
      "metadata": {
        "id": "zJ9HWw3ti6gM"
      }
    },
    {
      "cell_type": "code",
      "source": [
        "n=int(input(\"Enter a number n: \"))\n",
        "for i in range(1,11):\n",
        "  print(i*n)"
      ],
      "metadata": {
        "id": "0zTouKHWjaGE",
        "colab": {
          "base_uri": "https://localhost:8080/"
        },
        "outputId": "d0dcfe59-91a3-458a-eb89-5332ce2e62aa"
      },
      "execution_count": null,
      "outputs": [
        {
          "output_type": "stream",
          "name": "stdout",
          "text": [
            "Enter a number n 9\n",
            "0\n",
            "9\n",
            "18\n",
            "27\n",
            "36\n",
            "45\n",
            "54\n",
            "63\n",
            "72\n",
            "81\n",
            "90\n"
          ]
        }
      ]
    },
    {
      "cell_type": "markdown",
      "source": [
        "8. Write a Python program to print the first 8 terms of an arithmetic progression starting with 3 and having a common difference of 4. The\n",
        "program should output the following sequence: 3 7 11 15 19 23 27 31\n"
      ],
      "metadata": {
        "id": "7mMdrbQsi6jn"
      }
    },
    {
      "cell_type": "code",
      "source": [
        "for i in range(1,9):\n",
        " print(3+(i-1)*4)"
      ],
      "metadata": {
        "id": "JOtnRmJTjc8V",
        "colab": {
          "base_uri": "https://localhost:8080/"
        },
        "outputId": "0ead1bb7-d067-4ac1-cbb5-2ce70041b10b"
      },
      "execution_count": null,
      "outputs": [
        {
          "output_type": "stream",
          "name": "stdout",
          "text": [
            "3\n",
            "7\n",
            "11\n",
            "15\n",
            "19\n",
            "23\n",
            "27\n",
            "31\n"
          ]
        }
      ]
    },
    {
      "cell_type": "markdown",
      "source": [
        "9. Write a Python program to print the first 6 terms of a geometric sequence starting with 2 and having a common ratio of 3. The program\n",
        "should output the following sequence: 2 6 18 54 162 486\n"
      ],
      "metadata": {
        "id": "6ERGMzgAi6vE"
      }
    },
    {
      "cell_type": "code",
      "source": [
        "for i in range(1,7):\n",
        " print(2*(3**(i-1)))"
      ],
      "metadata": {
        "id": "8GCVXijsjf92",
        "colab": {
          "base_uri": "https://localhost:8080/"
        },
        "outputId": "75ed2b23-a633-4fb7-db8e-09f4d84de6a1"
      },
      "execution_count": null,
      "outputs": [
        {
          "output_type": "stream",
          "name": "stdout",
          "text": [
            "2\n",
            "6\n",
            "18\n",
            "54\n",
            "162\n",
            "486\n"
          ]
        }
      ]
    },
    {
      "cell_type": "markdown",
      "source": [
        "10. Write a program that asks the user for a positive integer value. The program should calculate the sum of all the integers from 1 up to the\n",
        "number entered. For example, if the user enters 20, the loop will find the sum of 1, 2, 3, 4, 20."
      ],
      "metadata": {
        "id": "bJJ7XQAci6yc"
      }
    },
    {
      "cell_type": "code",
      "source": [
        "sum=0\n",
        "n=int(input(\"Enter a number n: \"))\n",
        "for i in range(1,n+1):\n",
        "  sum=sum+i\n",
        "print(sum)"
      ],
      "metadata": {
        "id": "y9sgJHAYjkBK",
        "colab": {
          "base_uri": "https://localhost:8080/"
        },
        "outputId": "c620d0f7-03ce-4968-ec90-8b8045904d98"
      },
      "execution_count": null,
      "outputs": [
        {
          "output_type": "stream",
          "name": "stdout",
          "text": [
            "Enter a number n 5\n",
            "15\n"
          ]
        }
      ]
    },
    {
      "cell_type": "markdown",
      "source": [
        "11. write a program that takes a positive integer N as input and calculates the sum of the reciprocals of all numbers from 1 up to N. The\n",
        "program should display the final sum. Output of the program should be like: Enter a positive integer: 5 The sum of reciprocals from 1 to 5\n",
        "is: 2.28\n"
      ],
      "metadata": {
        "id": "TYWPaHYkjlDp"
      }
    },
    {
      "cell_type": "code",
      "source": [
        "\n",
        "n=int(input(\"Enter a number n: \"))\n",
        "for i in range(1,n+1):#1,5\n",
        " sum=sum+1/i             #1/1+1/2+1/3...1/5\n",
        "print(sum)"
      ],
      "metadata": {
        "id": "Xki54Nvujo3S",
        "colab": {
          "base_uri": "https://localhost:8080/"
        },
        "outputId": "40fd85e0-1d49-4c87-e24c-0ecc5268ed2b"
      },
      "execution_count": null,
      "outputs": [
        {
          "output_type": "stream",
          "name": "stdout",
          "text": [
            "Enter a number n 5\n",
            "2.283333333333333\n"
          ]
        }
      ]
    },
    {
      "cell_type": "markdown",
      "source": [
        "12. Write a program that prompts the user to enter a number and repeats this process 5 times. The program should accumulate the numbers\n",
        "entered and then display the final running total. Sample Output: Enter a number: 10 Enter a number: 15 Enter a number: 35 Enter a number:\n",
        "40 Enter a number: 50 The final running total is: 150\n"
      ],
      "metadata": {
        "id": "sv7HBcD8jlF_"
      }
    },
    {
      "cell_type": "code",
      "source": [
        "sum=0\n",
        "for i in range(1,6):\n",
        "  n=int(input(\"Enter a number n: \"))\n",
        "  sum=sum+n\n",
        "print(sum)"
      ],
      "metadata": {
        "id": "tCEEe0FCjtcc",
        "colab": {
          "base_uri": "https://localhost:8080/"
        },
        "outputId": "f9cec6b9-a599-4c1c-e7bd-541a725ee196"
      },
      "execution_count": null,
      "outputs": [
        {
          "output_type": "stream",
          "name": "stdout",
          "text": [
            "Enter a number n 10\n",
            "Enter a number n 15\n",
            "Enter a number n 35\n",
            "Enter a number n 40\n",
            "Enter a number n 50\n",
            "150\n"
          ]
        }
      ]
    },
    {
      "cell_type": "markdown",
      "source": [
        "13. Write a program that prompts the user to enter a positive integer and calculates its factorial. The factorial of a positive integer 'n' is\n",
        "denoted as 'n!' and is calculated by multiplying all the integers from 1 to 'n' together. For example, the factorial of 5 (denoted as 5!) is calculated as 1 x 2 x 3 x 4 x 5. The program should display the factorial value if the input is a positive number, or display a message stating that the factorial does not exist for negative numbers. Additionally, for an input of zero, the program should output that the\n",
        "factorial of 0 is 1.\n"
      ],
      "metadata": {
        "id": "W9nTPZDajlJT"
      }
    },
    {
      "cell_type": "code",
      "source": [
        "n=int(input(\"Enter a number n: \"))\n",
        "fact = 1\n",
        "for i in range(1, n + 1):\n",
        " fact *= i       #1*2=2,2*3=6,6*4=24\n",
        "print(fact)"
      ],
      "metadata": {
        "id": "m_b-DIHPjwyM"
      },
      "execution_count": null,
      "outputs": []
    },
    {
      "cell_type": "markdown",
      "source": [
        "14. Write a Python program that prompts the user to enter a base number and an exponent, and then calculates the power of the base to the exponent. The program should not use the exponentiation operator (**) or the math.pow() function. The program should handle both positive and negative exponents.\n"
      ],
      "metadata": {
        "id": "6CsojlPfjlU_"
      }
    },
    {
      "cell_type": "code",
      "source": [
        "n=int(input(\"Enter a base number n \"))\n",
        "e=int(input(\"Enter a exponent e \"))      #2*2=4,4*2=8\n",
        "pow=1\n",
        "for i in range(1, e+1):\n",
        " pow=pow*n\n",
        "print(pow)"
      ],
      "metadata": {
        "id": "GajfUiCbkTfj"
      },
      "execution_count": null,
      "outputs": []
    }
  ]
}