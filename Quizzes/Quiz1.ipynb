{
  "nbformat": 4,
  "nbformat_minor": 0,
  "metadata": {
    "colab": {
      "provenance": []
    },
    "kernelspec": {
      "name": "python3",
      "display_name": "Python 3"
    },
    "language_info": {
      "name": "python"
    }
  },
  "cells": [
    {
      "cell_type": "code",
      "execution_count": 1,
      "metadata": {
        "colab": {
          "base_uri": "https://localhost:8080/"
        },
        "id": "gwZ2IUtVtlTg",
        "outputId": "d3dcebe3-33b5-466e-d1d6-73b06b787f14"
      },
      "outputs": [
        {
          "output_type": "stream",
          "name": "stdout",
          "text": [
            "\n",
            "Cloudy days:\n",
            "     city       day\n",
            "9   paris  1/2/2017\n",
            "10  paris  1/3/2017\n",
            "11  paris  1/4/2017\n",
            "\n",
            "Maximum windspeed in each city:\n",
            "city\n",
            "mumbai      15\n",
            "new york    12\n",
            "paris       20\n",
            "Name: windspeed, dtype: int64\n"
          ]
        }
      ],
      "source": [
        "import pandas as pd\n",
        "data = pd.read_csv('weather_by_cities.csv')\n",
        "city = data.groupby('city')\n",
        "\n",
        "wind = city['windspeed'].max()\n",
        "\n",
        "cloudy_days = data[data['event'] == 'Cloudy']\n",
        "\n",
        "print(\"\\nCloudy days:\")\n",
        "print(cloudy_days[['city', 'day']])\n",
        "\n",
        "print(\"\\nMaximum windspeed in each city:\")\n",
        "print(wind)\n"
      ]
    }
  ]
}