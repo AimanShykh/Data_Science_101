{
  "cells": [
    {
      "cell_type": "markdown",
      "metadata": {
        "id": "uga8cuwCgwrQ"
      },
      "source": [
        "Write a program that accepts a list from user and print the alternate element of list.\n"
      ]
    },
    {
      "cell_type": "code",
      "execution_count": null,
      "metadata": {
        "id": "JW6VITophPex"
      },
      "outputs": [],
      "source": [
        "n = int(input(\"Enter the number of elements in the list: \"))\n",
        "list = []\n",
        "for i in range(n):\n",
        " element = input(\"Enter element at \"+str(i+1)+\": \")\n",
        " list.append(element)\n",
        "\n",
        "print(\"Alternate elements of the list:\")\n",
        "for i in range(0, len(list), 2):\n",
        "  print(list[i])"
      ]
    },
    {
      "cell_type": "markdown",
      "metadata": {
        "id": "eoA3xT5dhaCp"
      },
      "source": [
        "2. Write a program that accepts a list from user. Your program should reverse the content of list and display it. Do not use reverse() method."
      ]
    },
    {
      "cell_type": "code",
      "execution_count": null,
      "metadata": {
        "colab": {
          "base_uri": "https://localhost:8080/"
        },
        "id": "zSFrkzwih1ez",
        "outputId": "db44451d-f50f-460e-d062-28fda4c36b71"
      },
      "outputs": [
        {
          "output_type": "stream",
          "name": "stdout",
          "text": [
            "Enter the number of elements in the list: 4\n",
            "Enter element at 1: 1\n",
            "Enter element at 2: 2\n",
            "Enter element at 3: 3\n",
            "Enter element at 4: 4\n",
            "Reversed list:\n",
            "4\n",
            "3\n",
            "2\n",
            "1\n"
          ]
        }
      ],
      "source": [
        "\n",
        "n = int(input(\"Enter the number of elements in the list: \"))\n",
        "list = []\n",
        "for i in range(n):\n",
        " element = input(\"Enter element at \"+str(i+1)+\": \")\n",
        " list.append(element)\n",
        "\n",
        "\n",
        "reversed = []\n",
        "for i in range(1,len(list)+1):\n",
        " reversed.append(list[-i])\n",
        "\n",
        "\n",
        "print(\"Reversed list:\")\n",
        "for element in reversed:\n",
        " print(element)\n"
      ]
    },
    {
      "cell_type": "markdown",
      "metadata": {
        "id": "Ti4CQZq0hiV6"
      },
      "source": [
        "3. Find and display the largest number of a list without using built-in function max(). Your program should ask the user to input values\n",
        "in list from keyboard."
      ]
    },
    {
      "cell_type": "code",
      "execution_count": null,
      "metadata": {
        "id": "CQbdK2JhWWq3"
      },
      "outputs": [],
      "source": [
        "n = int(input(\"Enter the number of elements in the list: \"))\n",
        "list = []\n",
        "for i in range(n):\n",
        "  element = input(\"Enter element at \"+str(i+1)+\": \")\n",
        "  list.append(element)\n",
        "\n",
        "largest = list[0]\n",
        "for num in list:\n",
        " if num > largest:\n",
        "  largest = num\n",
        "print(\"The largest number in the list is: \"+ str(largest))"
      ]
    },
    {
      "cell_type": "markdown",
      "metadata": {
        "id": "jhOwmhm5hGeS"
      },
      "source": [
        "4. Write a program that rotates the element of a list so that the element at the first index moves to the second index, the element in the\n",
        "second index moves to the third index, etc., and the element in the last index moves to the first index.\n"
      ]
    },
    {
      "cell_type": "code",
      "execution_count": null,
      "metadata": {
        "id": "_hBMK0AwhvC7"
      },
      "outputs": [],
      "source": [
        "n = int(input(\"Enter the number of elements in the list: \"))\n",
        "list = []\n",
        "for i in range(n):\n",
        "  element = input(\"Enter element at \"+str(i+1)+\": \")\n",
        "list.append(element)\n",
        "first = [list[-1]]\n",
        "rotate = first+list[:-1]  #[1,2,3,4,5] #[5,1,2,3,4]\n",
        "print(rotate)"
      ]
    },
    {
      "cell_type": "markdown",
      "metadata": {
        "id": "d4cqRzDphVfK"
      },
      "source": [
        "3. Write a program that input a string and ask user to delete a given word from a string.\n"
      ]
    },
    {
      "cell_type": "code",
      "execution_count": null,
      "metadata": {
        "id": "D-R63P-TiKZl"
      },
      "outputs": [],
      "source": [
        "string = input(\"Enter a string: \")\n",
        "delete = input(\"Enter a string you want to delete: \")\n",
        "print(string.replace(delete,\"\"))"
      ]
    },
    {
      "cell_type": "markdown",
      "metadata": {
        "id": "UKvAB3sBiL4C"
      },
      "source": [
        "6. Write a program that reads a string from the user containing a date in the form mm/dd/yyyy. It should print the date in the form\n",
        "March 12, 2021"
      ]
    },
    {
      "cell_type": "code",
      "execution_count": null,
      "metadata": {
        "id": "18LlWpCpiTfe"
      },
      "outputs": [],
      "source": [
        "string = input(\"Enter a string: \")\n",
        "month,date,year= string.split('/')\n",
        "print(month.capitalize()+\" \"+date+\",\"+year)"
      ]
    },
    {
      "cell_type": "markdown",
      "metadata": {
        "id": "OZwb4qpliNED"
      },
      "source": [
        "7. Write a program with a function that accepts a string from keyboard and create a new string after converting character of each word\n",
        "capitalized. For instance, if the sentence is \"stop and smell the roses.\" the output should be \"Stop And Smell The Roses\""
      ]
    },
    {
      "cell_type": "code",
      "execution_count": null,
      "metadata": {
        "colab": {
          "base_uri": "https://localhost:8080/"
        },
        "id": "U2d0FeuRiYBP",
        "outputId": "2fbc952d-d8e3-4bc2-94e8-9e876327e199"
      },
      "outputs": [
        {
          "name": "stdout",
          "output_type": "stream",
          "text": [
            "Enter a string: stop and smell the roses\n",
            "Stop And Smell The Roses\n"
          ]
        }
      ],
      "source": [
        "string = input(\"Enter a string: \")\n",
        "print(string.title())"
      ]
    },
    {
      "cell_type": "markdown",
      "metadata": {
        "id": "MwA194LJW0PY"
      },
      "source": [
        "Find the sum of each row of matrix of size m x n. For example for the following matrix output will be like this: 2117 12 52915 Sum of row 1 = 32 Sum of row 2 = 31 Sum of row 3 = 63"
      ]
    },
    {
      "cell_type": "code",
      "execution_count": null,
      "metadata": {
        "id": "BsxZBidfW2dB"
      },
      "outputs": [],
      "source": [
        "m = int(input(\"Enter the number of rows of the matrix: \"))\n",
        "n = int(input(\"Enter the number of columns of the matrix: \"))\n",
        "\n",
        "matrix = []\n",
        "print(\"Enter the elements of the matrix:\")\n",
        "for i in range(m):\n",
        "    row = []\n",
        "    for j in range(n):\n",
        "        element = int(input(\"Enter element at position (\"+str(i+1)+\",\"+str(j+1)+\") : \"))\n",
        "        row.append(element)\n",
        "    matrix.append(row)\n",
        "\n",
        "\n",
        "row_sums = []\n",
        "for i in range(len(matrix)):\n",
        "    row_sum = 0\n",
        "    for j in range(len(matrix[i])):\n",
        "      row_sum += matrix[i][j]\n",
        "    row_sums.append(row_sum)\n",
        "    print(f\"Sum of row {i} = {row_sum}\")"
      ]
    },
    {
      "cell_type": "markdown",
      "metadata": {
        "id": "TnhCDAptiN3Z"
      },
      "source": [
        "9. Write a program to add two matrices of size n x m.\n"
      ]
    },
    {
      "cell_type": "code",
      "execution_count": 6,
      "metadata": {
        "colab": {
          "base_uri": "https://localhost:8080/"
        },
        "id": "0aUXIgJGigjl",
        "outputId": "0c7746a0-c4a8-4c56-db19-00ef4a5427d4"
      },
      "outputs": [
        {
          "output_type": "stream",
          "name": "stdout",
          "text": [
            "Enter the number of rows: 2\n",
            "Enter the number of columns: 2\n",
            "Enter the elements of the first matrix:\n",
            "Enter element at position (1,1) : 1\n",
            "Enter element at position (1,2) : 1\n",
            "Enter element at position (2,1) : 1\n",
            "Enter element at position (2,2) : 1\n",
            "Enter the elements of the second matrix:\n",
            "Enter element at position (1,1) : 1\n",
            "Enter element at position (1,2) : 1\n",
            "Enter element at position (2,1) : 1\n",
            "Enter element at position (2,2) : 1\n",
            "The sum of the matrices is:\n",
            "[2, 2]\n",
            "[2, 2]\n"
          ]
        }
      ],
      "source": [
        "n = int(input(\"Enter the number of rows: \"))\n",
        "m = int(input(\"Enter the number of columns: \"))\n",
        "\n",
        "matrix1 = []\n",
        "print(\"Enter the elements of the first matrix:\")\n",
        "for i in range(n):\n",
        "    row = []\n",
        "    for j in range(m):\n",
        "        element = int(input(\"Enter element at position (\"+str(i+1)+\",\"+str(j+1)+\") : \"))\n",
        "        row.append(element)\n",
        "    matrix1.append(row)\n",
        "\n",
        "\n",
        "print(\"Enter the elements of the second matrix:\")\n",
        "matrix2 = []\n",
        "for i in range(n):\n",
        "    row = []\n",
        "    for j in range(m):\n",
        "        element = int(input(\"Enter element at position (\"+str(i+1)+\",\"+str(j+1)+\") : \"))\n",
        "        row.append(element)\n",
        "    matrix2.append(row)\n",
        "\n",
        "# Adding the matrices\n",
        "result_matrix = []\n",
        "for i in range(n):\n",
        "    row = []\n",
        "    for j in range(m):\n",
        "        sum_element = matrix1[i][j] + matrix2[i][j]\n",
        "        row.append(sum_element)\n",
        "    result_matrix.append(row)\n",
        "\n",
        "\n",
        "print(\"The sum of the matrices is:\")\n",
        "for row in result_matrix:\n",
        "    print(row)\n"
      ]
    },
    {
      "cell_type": "markdown",
      "metadata": {
        "id": "xcLXUbMmiOIE"
      },
      "source": [
        "10. Write a program to multiply two matrices"
      ]
    },
    {
      "cell_type": "code",
      "execution_count": 8,
      "metadata": {
        "id": "9iSDetEdipTM",
        "colab": {
          "base_uri": "https://localhost:8080/"
        },
        "outputId": "4ad1b872-6ee6-445d-c718-c3ceacafbb90"
      },
      "outputs": [
        {
          "output_type": "stream",
          "name": "stdout",
          "text": [
            "Enter the number of rows of first matrix: 2\n",
            "Enter the number of columns of first matrix: 2\n",
            "Enter the number of rows of second matrix: 2\n",
            "Enter the number of columns of second matrix: 2\n",
            "Enter the elements of the first matrix:\n",
            "Enter element at position (1,1) : 1\n",
            "Enter element at position (1,2) : 1\n",
            "Enter element at position (2,1) : 1\n",
            "Enter element at position (2,2) : 1\n",
            "Enter the elements of the second matrix:\n",
            "Enter element at position (1,1) : 1\n",
            "Enter element at position (1,2) : 1\n",
            "Enter element at position (2,1) : 1\n",
            "Enter element at position (2,2) : 1\n",
            "\n",
            "Result of matrix multiplication:\n",
            "[4, 4]\n",
            "[4, 4]\n"
          ]
        }
      ],
      "source": [
        "rows1 = int(input(\"Enter the number of rows of first matrix: \"))\n",
        "col1 = int(input(\"Enter the number of columns of first matrix: \"))\n",
        "\n",
        "rows2 = int(input(\"Enter the number of rows of second matrix: \"))\n",
        "col2 = int(input(\"Enter the number of columns of second matrix: \"))\n",
        "\n",
        "if(col1==rows2):\n",
        "  matrix1 = []\n",
        "  print(\"Enter the elements of the first matrix:\")\n",
        "  for i in range(rows1):\n",
        "      row = []\n",
        "      for j in range(col1):\n",
        "          element = int(input(\"Enter element at position (\"+str(i+1)+\",\"+str(j+1)+\") : \"))\n",
        "          row.append(element)\n",
        "      matrix1.append(row)\n",
        "\n",
        "\n",
        "  print(\"Enter the elements of the second matrix:\")\n",
        "  matrix2 = []\n",
        "  for i in range(rows2):\n",
        "      row = []\n",
        "      for j in range(col2):\n",
        "          element = int(input(\"Enter element at position (\"+str(i+1)+\",\"+str(j+1)+\") : \"))\n",
        "          row.append(element)\n",
        "      matrix2.append(row)\n",
        "\n",
        "\n",
        "  for i in range(rows1):\n",
        "\n",
        "      for j in range(col2):\n",
        "        for k in range(rows2):\n",
        "              result_matrix[i][j] += matrix1[i][k] * matrix2[k][j]\n",
        "\n",
        "  print(\"\\nResult of matrix multiplication:\")\n",
        "  for row in result_matrix:\n",
        "      print(row)\n",
        "\n",
        "else:\n",
        "  print(\"Multiplication is not possible \")"
      ]
    }
  ],
  "metadata": {
    "colab": {
      "provenance": []
    },
    "kernelspec": {
      "display_name": "Python 3",
      "name": "python3"
    },
    "language_info": {
      "name": "python"
    }
  },
  "nbformat": 4,
  "nbformat_minor": 0
}